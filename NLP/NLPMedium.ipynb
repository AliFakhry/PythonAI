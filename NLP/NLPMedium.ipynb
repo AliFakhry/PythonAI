{
 "cells": [
  {
   "cell_type": "code",
   "execution_count": 68,
   "id": "4a0edcc2-e6ad-4b8c-aa2f-18375cc58b44",
   "metadata": {},
   "outputs": [
    {
     "name": "stdout",
     "output_type": "stream",
     "text": [
      "Requirement already satisfied: random-word in /Users/alifakhry/opt/anaconda3/lib/python3.8/site-packages (1.0.7)\n",
      "Requirement already satisfied: nose in /Users/alifakhry/opt/anaconda3/lib/python3.8/site-packages (from random-word) (1.3.7)\n",
      "Requirement already satisfied: requests in /Users/alifakhry/opt/anaconda3/lib/python3.8/site-packages (from random-word) (2.25.1)\n",
      "Requirement already satisfied: chardet<5,>=3.0.2 in /Users/alifakhry/opt/anaconda3/lib/python3.8/site-packages (from requests->random-word) (4.0.0)\n",
      "Requirement already satisfied: idna<3,>=2.5 in /Users/alifakhry/opt/anaconda3/lib/python3.8/site-packages (from requests->random-word) (2.10)\n",
      "Requirement already satisfied: urllib3<1.27,>=1.21.1 in /Users/alifakhry/opt/anaconda3/lib/python3.8/site-packages (from requests->random-word) (1.26.4)\n",
      "Requirement already satisfied: certifi>=2017.4.17 in /Users/alifakhry/opt/anaconda3/lib/python3.8/site-packages (from requests->random-word) (2020.12.5)\n",
      "Note: you may need to restart the kernel to use updated packages.\n"
     ]
    }
   ],
   "source": [
    "pip install random-word"
   ]
  },
  {
   "cell_type": "code",
   "execution_count": 69,
   "id": "e1f20e2e-f4a1-4198-af02-e82b32adca9f",
   "metadata": {},
   "outputs": [],
   "source": [
    "from random_word import RandomWords"
   ]
  },
  {
   "cell_type": "code",
   "execution_count": 70,
   "id": "7b04bbe3-2dc6-40b1-8aa4-db309984ac6a",
   "metadata": {},
   "outputs": [
    {
     "name": "stdout",
     "output_type": "stream",
     "text": [
      "Requirement already satisfied: nltk in /Users/alifakhry/opt/anaconda3/lib/python3.8/site-packages (3.3)\n",
      "Requirement already satisfied: six in /Users/alifakhry/opt/anaconda3/lib/python3.8/site-packages (from nltk) (1.15.0)\n",
      "Note: you may need to restart the kernel to use updated packages.\n"
     ]
    }
   ],
   "source": [
    "pip install nltk"
   ]
  },
  {
   "cell_type": "code",
   "execution_count": 71,
   "id": "5924c405-61ec-4346-bb4f-021ecfcb6c26",
   "metadata": {},
   "outputs": [],
   "source": [
    "import nltk"
   ]
  },
  {
   "cell_type": "code",
   "execution_count": 72,
   "id": "de1d9d36-62c4-4970-9b9d-3ab0bc8636e0",
   "metadata": {},
   "outputs": [
    {
     "name": "stdout",
     "output_type": "stream",
     "text": [
      "None Confederates warely.\n"
     ]
    }
   ],
   "source": [
    "#Will randomly generate words to make a sentence.\n",
    "\n",
    "r = RandomWords()\n",
    "\n",
    "randomOne = r.get_random_word()\n",
    "randomTwo = r.get_random_word()\n",
    "randomThree = r.get_random_word()\n",
    "\n",
    "print(randomOne, randomTwo, randomThree + \".\")"
   ]
  },
  {
   "cell_type": "code",
   "execution_count": 73,
   "id": "c2db40ff-7a6d-48b6-a334-6088d98c87af",
   "metadata": {},
   "outputs": [
    {
     "name": "stdout",
     "output_type": "stream",
     "text": [
      "Requirement already satisfied: vadersentiment in /Users/alifakhry/opt/anaconda3/lib/python3.8/site-packages (3.3.2)\n",
      "Requirement already satisfied: requests in /Users/alifakhry/opt/anaconda3/lib/python3.8/site-packages (from vadersentiment) (2.25.1)\n",
      "Requirement already satisfied: urllib3<1.27,>=1.21.1 in /Users/alifakhry/opt/anaconda3/lib/python3.8/site-packages (from requests->vadersentiment) (1.26.4)\n",
      "Requirement already satisfied: chardet<5,>=3.0.2 in /Users/alifakhry/opt/anaconda3/lib/python3.8/site-packages (from requests->vadersentiment) (4.0.0)\n",
      "Requirement already satisfied: idna<3,>=2.5 in /Users/alifakhry/opt/anaconda3/lib/python3.8/site-packages (from requests->vadersentiment) (2.10)\n",
      "Requirement already satisfied: certifi>=2017.4.17 in /Users/alifakhry/opt/anaconda3/lib/python3.8/site-packages (from requests->vadersentiment) (2020.12.5)\n",
      "Note: you may need to restart the kernel to use updated packages.\n"
     ]
    }
   ],
   "source": [
    "pip install vadersentiment"
   ]
  },
  {
   "cell_type": "code",
   "execution_count": 74,
   "id": "c43d98fe-7846-488c-b182-b9cfd5a40b38",
   "metadata": {},
   "outputs": [],
   "source": [
    "from vaderSentiment.vaderSentiment import SentimentIntensityAnalyzer"
   ]
  },
  {
   "cell_type": "code",
   "execution_count": 75,
   "id": "fae759f8-4a2e-4f3a-b4fd-b90aa4ef4b5a",
   "metadata": {},
   "outputs": [],
   "source": [
    "def positiveRandom(running):\n",
    "        \n",
    "    while (running == \"True\"):\n",
    "        \n",
    "        randomValue = r.get_random_word()\n",
    "\n",
    "        print(randomValue)\n",
    "\n",
    "        sentence = randomValue\n",
    "\n",
    "        vs = SentimentIntensityAnalyzer().polarity_scores(sentence)\n",
    "\n",
    "        for i in vs:\n",
    "\n",
    "            if (i == \"pos\"):\n",
    "\n",
    "                if (vs[i] > 0):\n",
    "\n",
    "                    print(\"\\Positive Word: \" + sentence)\n",
    "                    \n",
    "                    return(sentence)\n",
    "\n",
    "                    running = \"False\"\n",
    "    \n",
    "def negativeRandom(running):\n",
    "    \n",
    "    while(running == \"True\"):\n",
    "    \n",
    "        randomValue = r.get_random_word()\n",
    "\n",
    "        print(randomValue)\n",
    "\n",
    "        sentence = randomValue\n",
    "\n",
    "        vs = SentimentIntensityAnalyzer().polarity_scores(sentence)\n",
    "\n",
    "        for i in vs:\n",
    "\n",
    "            if (i == \"neg\"):\n",
    "\n",
    "                if (vs[i] > 0):\n",
    "\n",
    "                    print(\"\\nNegative Word: \" + sentence)\n",
    "                    \n",
    "                    return(sentence)               \n",
    "                    \n",
    "                    running = \"False\""
   ]
  },
  {
   "cell_type": "code",
   "execution_count": 76,
   "id": "2a1005dc-a2d8-4480-8a5a-b5f50870db51",
   "metadata": {},
   "outputs": [
    {
     "name": "stdin",
     "output_type": "stream",
     "text": [
      "Would you rather generate a word with positive or negative sentiment? Type 'P' or 'N'.  P\n"
     ]
    },
    {
     "name": "stdout",
     "output_type": "stream",
     "text": [
      "UNAMIR\n",
      "coins\n",
      "fadaise\n",
      "detainer\n",
      "sweetwood\n",
      "fense\n",
      "multitasks\n",
      "obeisances\n",
      "reinforcement\n",
      "Khoisan\n",
      "outsail\n",
      "quarriers\n",
      "denaturant\n",
      "telephonograph\n",
      "unbathed\n",
      "nondisjunction\n",
      "vellicate\n",
      "razzamatazz\n",
      "lapin\n",
      "coherency\n",
      "wirehairs\n",
      "gazel\n",
      "epinicia\n",
      "sodbusters\n",
      "repossess\n",
      "precaria\n",
      "simplist\n",
      "recalcitration\n",
      "bioanalytical\n",
      "ornithite\n",
      "racoon-perch\n",
      "despisers\n",
      "freemasons\n",
      "senna\n",
      "irresuscitable\n",
      "varnisher\n",
      "cleaver\n",
      "fœtal\n",
      "after-effect\n",
      "unmask\n",
      "canvassed\n",
      "apophysial\n",
      "dean martin\n",
      "ambulacrum\n",
      "ronin\n",
      "tillodont\n",
      "slubbered\n",
      "uncolored\n",
      "words\n",
      "mizzenmast\n",
      "parolees\n",
      "undeniably\n",
      "tribunicial\n",
      "telegraphed\n",
      "stainability\n",
      "Maffia\n",
      "breach\n",
      "featously\n",
      "ureides\n",
      "wissen\n",
      "cormi\n",
      "recodes\n",
      "parameterised\n",
      "dabchicks\n",
      "cinematize\n",
      "periselene\n",
      "disbursements\n",
      "burnishers\n",
      "fee-grief\n",
      "Tungusic\n",
      "overperform\n",
      "absenteeship\n",
      "cutter-head\n",
      "jewel-weed\n",
      "cheer\n",
      "\\Positive Word: cheer\n"
     ]
    }
   ],
   "source": [
    "#Take it out step further, randomly generate words until it's positive or negative based on the user's choice!\n",
    "\n",
    "value = \"\"\n",
    "\n",
    "running = \"True\"\n",
    "\n",
    "userInput = input(\"Would you rather generate a word with positive or negative sentiment? Type 'P' or 'N'. \") \n",
    "    \n",
    "if (userInput.lower() == \"p\"):\n",
    "    \n",
    "    value = positiveRandom(\"True\")\n",
    "    \n",
    "elif (userInput.lower() == \"n\"):\n",
    "    \n",
    "    value = negativeRandom(\"True\")"
   ]
  }
 ],
 "metadata": {
  "kernelspec": {
   "display_name": "Python 3",
   "language": "python",
   "name": "python3"
  },
  "language_info": {
   "codemirror_mode": {
    "name": "ipython",
    "version": 3
   },
   "file_extension": ".py",
   "mimetype": "text/x-python",
   "name": "python",
   "nbconvert_exporter": "python",
   "pygments_lexer": "ipython3",
   "version": "3.8.8"
  }
 },
 "nbformat": 4,
 "nbformat_minor": 5
}
