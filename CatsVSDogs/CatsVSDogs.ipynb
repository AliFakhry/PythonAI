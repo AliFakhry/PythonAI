{
  "nbformat": 4,
  "nbformat_minor": 0,
  "metadata": {
    "colab": {
      "name": "CatsVSDogs.ipynb",
      "provenance": [],
      "collapsed_sections": []
    },
    "kernelspec": {
      "name": "python3",
      "display_name": "Python 3"
    },
    "language_info": {
      "name": "python"
    }
  },
  "cells": [
    {
      "cell_type": "code",
      "metadata": {
        "id": "6EkKK3hmQmpo"
      },
      "source": [
        "import warnings\n",
        "warnings.filterwarnings(\"ignore\", category=UserWarning, module=\"torch.nn.functional\") \n",
        "from google.colab import drive\n",
        "drive.mount('/content/gdrive')  # connects to data stored on google drive\n",
        "import os\n",
        "os.chdir('/content/gdrive/My Drive/')\n",
        "import shutil\n",
        "import re\n",
        "import torch\n",
        "import torchvision\n",
        "from torchvision import transforms\n",
        "import torch.nn as nn\n",
        "import torch.nn.functional as F\n",
        "import torch.optim as optim\n",
        "from google.colab import files\n",
        "import zipfile"
      ],
      "execution_count": null,
      "outputs": []
    },
    {
      "cell_type": "code",
      "metadata": {
        "id": "ej7mwCzHQo7I"
      },
      "source": [
        "device = torch.device(\"cuda\" if torch.cuda.is_available() else \"cpu\") \n",
        "print(device)"
      ],
      "execution_count": null,
      "outputs": []
    },
    {
      "cell_type": "code",
      "metadata": {
        "id": "RwFWjdHUQrUI"
      },
      "source": [
        "os.mkdir('/content/gdrive/My Drive/DogsVSCats')"
      ],
      "execution_count": null,
      "outputs": []
    },
    {
      "cell_type": "code",
      "metadata": {
        "id": "HgVdMrlGQscb"
      },
      "source": [
        "with zipfile.ZipFile('/content/gdrive/My Drive/dogs-vs-cats.zip') as zf:\n",
        "zf.extractall('/content/gdrive/My Drive/DogsVSCats')"
      ],
      "execution_count": null,
      "outputs": []
    },
    {
      "cell_type": "code",
      "metadata": {
        "id": "b0r0KT4vQtrw"
      },
      "source": [
        "with zipfile.ZipFile('/content/gdrive/My Drive/DogsVSCats/train.zip') as zf:\n",
        "zf.extractall('/content/gdrive/My Drive/DogsVSCats/')"
      ],
      "execution_count": null,
      "outputs": []
    },
    {
      "cell_type": "code",
      "metadata": {
        "id": "VufKdCzCQwBG"
      },
      "source": [
        "with zipfile.ZipFile('/content/gdrive/My Drive/DogsVSCats/test1.zip') as zf:\n",
        "zf.extractall('/content/gdrive/My Drive/DogsVSCats/')"
      ],
      "execution_count": null,
      "outputs": []
    },
    {
      "cell_type": "code",
      "metadata": {
        "id": "vCZgel6tQxLf"
      },
      "source": [
        "os.mkdir('/content/gdrive/My Drive/DogsVSCats/train/cat')\n",
        "os.mkdir('/content/gdrive/My Drive/DogsVSCats/train/dog')"
      ],
      "execution_count": null,
      "outputs": []
    },
    {
      "cell_type": "code",
      "metadata": {
        "id": "rdpwPUpIQygU"
      },
      "source": [
        "train_dr= '/content/gdrive/My Drive/DogsVSCats/train/'\n",
        "train_dog_dir = '/content/gdrive/My Drive/DogsVSCats/train/dog'\n",
        "train_cat_dir = '/content/gdrive/My Drive/DogsVSCats/train/cat'\n",
        "\n",
        "files = os.listdir('/content/gdrive/My Drive/DogsVSCats/train')"
      ],
      "execution_count": null,
      "outputs": []
    },
    {
      "cell_type": "code",
      "metadata": {
        "id": "wNlAs5XsQ0CM"
      },
      "source": [
        "train = os.listdir(\"/content/gdrive/My Drive/DogsVSCats/train\")\n",
        "for f in files:\n",
        "   catSearchObj = re.search(\"cat\", f)\n",
        "   dogSearchObj = re.search(\"dog\", f)\n",
        "   if catSearchObj:\n",
        "      shutil.move(f'{train_dr}/{f}', train_cat_dir)\n",
        "      print(\"moved!-cat\")\n",
        "   elif dogSearchObj:\n",
        "      shutil.move(f'{train_dr}/{f}', train_dog_dir)\n",
        "      print(\"moved!-dog\")"
      ],
      "execution_count": null,
      "outputs": []
    },
    {
      "cell_type": "code",
      "metadata": {
        "id": "keWEJ7KeQ2vN"
      },
      "source": [
        "os.mkdir('/content/gdrive/My Drive/DogsVSCats/val/cat')\n",
        "os.mkdir('/content/gdrive/My Drive/DogsVSCats/val/dog')\n",
        "\n",
        "val_dog_dir = '/content/gdrive/My Drive/DogsVSCats/val/dog'\n",
        "val_cat_dir = '/content/gdrive/My Drive/DogsVSCats/val/cat'"
      ],
      "execution_count": null,
      "outputs": []
    },
    {
      "cell_type": "code",
      "metadata": {
        "id": "g2Cp96n6Q4cF"
      },
      "source": [
        "files = os.listdir(train_dog_dir)\n",
        "for f in files:\n",
        "   valDogSearch = re.search(\"5\\d\\d\\d\", f)\n",
        "   if valDogSearch:\n",
        "        shutil.move(f'{train_dog_dir}/{f}', val_dog_dir)\n",
        "!ls {val_dog_dir} | head -n 5"
      ],
      "execution_count": null,
      "outputs": []
    },
    {
      "cell_type": "code",
      "metadata": {
        "id": "QAiqhIdBQ7Em"
      },
      "source": [
        "files = os.listdir(train_cat_dir)\n",
        "for f in files:\n",
        "   valCatSearch = re.search(\"5\\d\\d\\d\", f)\n",
        "   if valCatSearch:\n",
        "       shutil.move(f'{train_cat_dir}/{f}', val_cat_dir)\n",
        "!ls {val_cat_dir} | head -n 5"
      ],
      "execution_count": null,
      "outputs": []
    },
    {
      "cell_type": "code",
      "metadata": {
        "id": "Np2YR7DhQ8cR"
      },
      "source": [
        "transforms = torchvision.transforms.Compose([torchvision.transforms.Resize((224,224)),\n",
        "torchvision.transforms.ToTensor()])train_image_folder = torchvision.datasets.ImageFolder('/content/gdrive/My Drive/DogsVSCats/train/', transform=transforms)\n",
        "train_loader = torch.utils.data.DataLoader(train_image_folder, batch_size=64, shuffle=True, num_workers=4)\n",
        "val_image_folder = torchvision.datasets.ImageFolder('/content/gdrive/My Drive/DogsVSCats/val/', transform=transforms)\n",
        "val_loader = torch.utils.data.DataLoader(val_image_folder, batch_size=64, shuffle=True, num_workers=4)"
      ],
      "execution_count": null,
      "outputs": []
    },
    {
      "cell_type": "code",
      "metadata": {
        "id": "VMnOHIMLQ-ox"
      },
      "source": [
        "class DogDetector(nn.Module):\n",
        "   def __init__(self):\n",
        "      super().__init__()\n",
        "      self.cnn_layers = nn.Sequential(\n",
        "         nn.Conv2d(3, 6, kernel_size=3, stride=1, padding=1),\n",
        "         nn.ReLU(inplace=True),\n",
        "         nn.MaxPool2d(kernel_size=2, stride=2),\n",
        "         nn.Conv2d(6, 12, kernel_size=3, stride=1, padding=1),\n",
        "         nn.ReLU(inplace=True),\n",
        "         nn.MaxPool2d(kernel_size=2, stride=2), \n",
        "      \n",
        "      )\n",
        "      \n",
        "      self.linear_layers = nn.Sequential(\n",
        "         nn.Linear(256*7*7*3, 196),\n",
        "         nn.Linear(196, 1),\n",
        "         nn.Sigmoid(),\n",
        "      )\n",
        "   \n",
        "  def forward(self, x):\n",
        "     x = self.cnn_layers(x)\n",
        "     x = x.view(x.size(0), -1)\n",
        "     x = self.linear_layers(x)\n",
        "     return x\n",
        "dog_detector = DogDetector()\n",
        "dog_detector.cuda()"
      ],
      "execution_count": null,
      "outputs": []
    },
    {
      "cell_type": "code",
      "metadata": {
        "id": "dep4anVJRBPf"
      },
      "source": [
        "optimizer = optim.Adam(dog_detector.parameters(), lr = 0.0001)\n",
        "loss_func = nn.BCELoss().cuda()\n",
        "EPOCHS = 5\n",
        "for epoch in range(EPOCHS):\n",
        "   print(f\"epoch: {epoch}\")\n",
        "   for i, data in enumerate(train_loader):\n",
        "      if i % 50 == 0:\n",
        "         print(f\"  batch: {i}\")\n",
        "         X, y = data\n",
        "         y = y.type(torch.FloatTensor).view(len(y), -1).cuda()\n",
        "         dog_detector.zero_grad()\n",
        "         output = dog_detector(X.view(-1, 3, 224, 224).cuda())\n",
        "         loss_val = loss_func(output, y)\n",
        "         loss_val.backward()\n",
        "         optimizer.step()\n",
        "    print(f\"loss: {loss_val}\")"
      ],
      "execution_count": null,
      "outputs": []
    },
    {
      "cell_type": "code",
      "metadata": {
        "id": "Q5qFrUxsRC2r"
      },
      "source": [
        "correct = 0\n",
        "total = 0\n",
        "with torch.no_grad():\n",
        "   for data in val_loader:\n",
        "   X, y = data \n",
        "   output = dog_detector(X.view(-1, 3, 224, 224).cuda())\n",
        "   correct_sum = output.round().transpose(0, 1).cpu() == y\n",
        "   correct += correct_sum.sum().item()\n",
        "   total += len(y)\n",
        "print(f\"Accuracy: {round(correct/total, 3)}\")"
      ],
      "execution_count": null,
      "outputs": []
    },
    {
      "cell_type": "code",
      "metadata": {
        "id": "4IvOFk4pRENG"
      },
      "source": [
        "model_resnet18 =  torchvision.models.resnet18(pretrained=True)\n",
        "\n",
        "new_lin = nn.Sequential(\n",
        "   nn.Linear(512, 1),\n",
        "   nn.Sigmoid()  \n",
        ")\n",
        "model_resnet18.fc = new_lin"
      ],
      "execution_count": null,
      "outputs": []
    },
    {
      "cell_type": "code",
      "metadata": {
        "id": "4Gx-L997RFY2"
      },
      "source": [
        "for name, param in model_resnet18.named_parameters():\n",
        "   if(\"bn\" not in name):\n",
        "      param.requires_grad = False"
      ],
      "execution_count": null,
      "outputs": []
    },
    {
      "cell_type": "code",
      "metadata": {
        "id": "Wx7cbNvBRGZu"
      },
      "source": [
        "model_resnet18.cuda()"
      ],
      "execution_count": null,
      "outputs": []
    },
    {
      "cell_type": "code",
      "metadata": {
        "id": "e3YcbPWSRKhp"
      },
      "source": [
        "optimizer = optim.Adam(model_resnet18.parameters(), lr = 0.0001)\n",
        "loss_func = nn.BCELoss().cuda()\n",
        "EPOCHS = 5\n",
        "for epoch in range(EPOCHS):\n",
        "   print(f\"epoch: {epoch}\")\n",
        "   for i, data in enumerate(train_loader):\n",
        "      if i % 50 == 0:\n",
        "      print(f\"  batch: {i}\")\n",
        "      X, y = data\n",
        "      y = y.type(torch.FloatTensor).view(len(y), -1).cuda()\n",
        "      model_resnet18.zero_grad()\n",
        "      output = model_resnet18(X.view(-1, 3, 224, 224).cuda())\n",
        "      loss_val = loss_func(output, y)\n",
        "      loss_val.backward() \n",
        "optimizer.step()\n",
        "print(f\"loss: {loss_val}\")"
      ],
      "execution_count": null,
      "outputs": []
    },
    {
      "cell_type": "code",
      "metadata": {
        "id": "wETJp2FNRL1f"
      },
      "source": [
        "correct = 0\n",
        "total = 0\n",
        "with torch.no_grad():\n",
        "   for data in val_loader:\n",
        "      X, y = data\n",
        "      output = model_resnet18(X.view(-1, 3, 224, 224).cuda())\n",
        "      correct_sum = output.round().transpose(0, 1).cpu() == y\n",
        "      correct += correct_sum.sum().item()\n",
        "      total += len(y)\n",
        "print(f\"Accuracy: {round(correct/total, 3)}\")"
      ],
      "execution_count": null,
      "outputs": []
    }
  ]
}