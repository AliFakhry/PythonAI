{
  "nbformat": 4,
  "nbformat_minor": 0,
  "metadata": {
    "colab": {
      "name": "RandomForests.ipynb",
      "provenance": []
    },
    "kernelspec": {
      "name": "python3",
      "display_name": "Python 3"
    },
    "language_info": {
      "name": "python"
    }
  },
  "cells": [
    {
      "cell_type": "code",
      "metadata": {
        "id": "S57G8rmvSwMt"
      },
      "source": [
        "import pandas as pd \n",
        "from sklearn.model_selection import train_test_split \n",
        "from sklearn.ensemble import RandomForestClassifier "
      ],
      "execution_count": null,
      "outputs": []
    },
    {
      "cell_type": "code",
      "metadata": {
        "id": "AzKAGxoWS3BC"
      },
      "source": [
        "from google.colab import drive \n",
        "drive.mount('/content/gdrive')"
      ],
      "execution_count": null,
      "outputs": []
    },
    {
      "cell_type": "code",
      "metadata": {
        "id": "8_Ywl2DDS37Q"
      },
      "source": [
        "train_df = pd.read_csv('/content/gdrive/My Drive/train.csv') \n",
        "test_df = pd.read_csv('/content/gdrive/My Drive/test.csv') "
      ],
      "execution_count": null,
      "outputs": []
    },
    {
      "cell_type": "code",
      "metadata": {
        "id": "cbUk37fZS5UG"
      },
      "source": [
        "train_df = train_df.drop(['Name'],  axis=1) \n",
        "test_df = test_df.drop(['Name'], axis=1) \n",
        "train_df = train_df.drop(['Cabin'],  axis=1) \n",
        "test_df = test_df.drop(['Cabin'], axis=1)\n",
        "train_df = train_df.drop(['Ticket'],  axis=1) \n",
        "test_df = test_df.drop(['Ticket'], axis=1)"
      ],
      "execution_count": null,
      "outputs": []
    },
    {
      "cell_type": "code",
      "metadata": {
        "id": "GCTwYUWMTyfO"
      },
      "source": [
        "def clean_sex(train_df):\n",
        "   try:\n",
        "      return train_df[0]\n",
        "   except TypeError:\n",
        "      return \"None\"\n",
        "train_df[\"Sex\"] = train_df.Sex.apply(clean_sex) \n",
        "categorical_variables = ['Sex', 'Embarked'] \n",
        "for variable in categorical_variables:\n",
        "   train_df[variable].fillna(\"Missing\", inplace=True) \n",
        "   discarded = pd.get_dummies(train_df[variable],prefix = variable)        \n",
        "   train_df= pd.concat([train_df, discarded], axis = 1)\n",
        "   train_df.drop([variable], axis = 1, inplace = True)"
      ],
      "execution_count": null,
      "outputs": []
    },
    {
      "cell_type": "code",
      "metadata": {
        "id": "sbxy-EbCTz_q"
      },
      "source": [
        "def clean_sex(test_df):\n",
        "try:\n",
        "   return test_df[0] \n",
        "except TypeError:\n",
        "   return \"None\"\n",
        "test_df[\"Sex\"] = test_df.Sex.apply(clean_sex) \n",
        "categorical_variables = ['Sex', 'Embarked']\n",
        "for variable in categorical_variables:\n",
        "   test_df[variable].fillna(\"Missing\", inplace=True)\n",
        "   discarded = pd.get_dummies(test_df[variable], prefix = variable)\n",
        "   test_df= pd.concat([test_df, discarded], axis = 1)\n",
        "   test_df.drop([variable], axis = 1, inplace = True) "
      ],
      "execution_count": null,
      "outputs": []
    },
    {
      "cell_type": "code",
      "metadata": {
        "id": "XwHyUIy2T1me"
      },
      "source": [
        "train_df[\"Age\"].fillna (train_df.Age.mean(), inplace = True)\n",
        "test_df[\"Age\"].fillna (test_df.Age.mean(), inplace = True)\n",
        "\n",
        "train_df[\"Fare\"].fillna (train_df.Fare.mean(), inplace = True)\n",
        "test_df[\"Fare\"].fillna (test_df.Fare.mean(), inplace = True)"
      ],
      "execution_count": null,
      "outputs": []
    },
    {
      "cell_type": "code",
      "metadata": {
        "id": "EYtDauGoT2x-"
      },
      "source": [
        "train_df = train_df.round({'Age':0})\n",
        "test_df = test_df.round({'Age':0})"
      ],
      "execution_count": null,
      "outputs": []
    },
    {
      "cell_type": "code",
      "metadata": {
        "id": "tHt9n3RQT35C"
      },
      "source": [
        "X_train = train_df.drop(\"Survived\", axis=1) \n",
        "Y_train = train_df[\"Survived\"] \n",
        "X_test  = test_df \n",
        "X_train.shape, Y_train.shape, X_test.shape"
      ],
      "execution_count": null,
      "outputs": []
    },
    {
      "cell_type": "code",
      "metadata": {
        "id": "ub8ovPpwT5hY"
      },
      "source": [
        "random_forest = RandomForestClassifier(criterion='gini',\n",
        "    n_estimators=700, \n",
        "    min_samples_split=10, \n",
        "    min_samples_leaf=1, \n",
        "    max_features='auto', \n",
        "    oob_score=True, \n",
        "    random_state=1,\n",
        "    n_jobs=-1) \n",
        "random_forest.fit(X_train, Y_train)\n",
        "Y_pred = random_forest.predict(X_test) \n",
        "acc_random_forest = round(random_forest.score(X_train, Y_train) * 100, 2) \n",
        "acc_random_forest "
      ],
      "execution_count": null,
      "outputs": []
    },
    {
      "cell_type": "code",
      "metadata": {
        "id": "_-7Q92d1T7IQ"
      },
      "source": [
        "submission = pd.DataFrame({\n",
        "    \"PassengerId\": test_df[\"PassengerId\"],\n",
        "    \"Survived\": Y_pred\n",
        "})\n",
        "submission.to_csv('submission.csv', index=False)"
      ],
      "execution_count": null,
      "outputs": []
    }
  ]
}